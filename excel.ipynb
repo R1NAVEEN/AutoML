{
 "cells": [
  {
   "cell_type": "code",
   "execution_count": null,
   "metadata": {},
   "outputs": [],
   "source": [
    "import xlwings as xw\n",
    "import win32com.client\n",
    "import time\n",
    "import schedule"
   ]
  },
  {
   "cell_type": "code",
   "execution_count": 2,
   "metadata": {},
   "outputs": [
    {
     "name": "stdout",
     "output_type": "stream",
     "text": [
      "Excel has been refreshed\n",
      "Excel has been refreshed\n",
      "Excel has been refreshed\n",
      "Excel has been refreshed\n",
      "Excel has been refreshed\n",
      "Excel has been refreshed\n",
      "Excel has been refreshed\n"
     ]
    }
   ],
   "source": [
    "refresh_count = 0\n",
    "def refresh_excel():\n",
    "    global refresh_count\n",
    "    File = win32com.client.Dispatch(\"Excel.Application\") \n",
    "    File.Visible = 1\n",
    "    Workbook = File.Workbooks.Open(r\"C:\\Users\\n.rallapalle.ext\\OneDrive - SIEMENSGAMESA\\Polaris\\Polaris_Main.xlsx\") \n",
    "    Workbook.RefreshAll() \n",
    "    File.CalculateUntilAsyncQueriesDone()\n",
    "    Workbook.Save() \n",
    "    File.Quit()\n",
    "    refresh_count += 1\n",
    "    print(f\"Excel has been refreshed\")\n",
    "\n",
    "schedule.every().hour.at(\":30\").do(refresh_excel)\n",
    "\n",
    "while True:\n",
    "    schedule.run_pending()\n",
    "    time.sleep(1)"
   ]
  },
  {
   "cell_type": "code",
   "execution_count": null,
   "metadata": {},
   "outputs": [],
   "source": []
  }
 ],
 "metadata": {
  "kernelspec": {
   "display_name": "Python 3",
   "language": "python",
   "name": "python3"
  },
  "language_info": {
   "codemirror_mode": {
    "name": "ipython",
    "version": 3
   },
   "file_extension": ".py",
   "mimetype": "text/x-python",
   "name": "python",
   "nbconvert_exporter": "python",
   "pygments_lexer": "ipython3",
   "version": "3.12.1"
  }
 },
 "nbformat": 4,
 "nbformat_minor": 2
}
